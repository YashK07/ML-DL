{
 "cells": [
  {
   "cell_type": "markdown",
   "metadata": {},
   "source": [
    "# The Dataset"
   ]
  },
  {
   "cell_type": "markdown",
   "metadata": {},
   "source": [
    "The Boston data frame has 506 rows and 14 columns.\n",
    "\n",
    "This data frame contains the following columns:\n",
    "\n",
    "crim\n",
    "per capita crime rate by town.\n",
    "\n",
    "zn\n",
    "proportion of residential land zoned for lots over 25,000 sq.ft.\n",
    "\n",
    "indus\n",
    "proportion of non-retail business acres per town.\n",
    "\n",
    "chas\n",
    "Charles River dummy variable (= 1 if tract bounds river; 0 otherwise).\n",
    "\n",
    "nox\n",
    "nitrogen oxides concentration (parts per 10 million).\n",
    "\n",
    "rm\n",
    "average number of rooms per dwelling.\n",
    "\n",
    "age\n",
    "proportion of owner-occupied units built prior to 1940.\n",
    "\n",
    "dis\n",
    "weighted mean of distances to five Boston employment centres.\n",
    "\n",
    "rad\n",
    "index of accessibility to radial highways.\n",
    "\n",
    "tax\n",
    "full-value property-tax rate per \\$10,000.\n",
    "\n",
    "ptratio\n",
    "pupil-teacher ratio by town.\n",
    "\n",
    "black\n",
    "1000(Bk - 0.63)^2 where Bk is the proportion of blacks by town.\n",
    "\n",
    "lstat\n",
    "lower status of the population (percent).\n",
    "\n",
    "medv\n",
    "median value of owner-occupied homes in \\$1000s."
   ]
  },
  {
   "cell_type": "code",
   "execution_count": 1,
   "metadata": {},
   "outputs": [],
   "source": [
    "import pandas as pd\n",
    "import numpy as np\n",
    "import matplotlib.pyplot as plt\n",
    "import seaborn as sns"
   ]
  },
  {
   "cell_type": "code",
   "execution_count": 2,
   "metadata": {},
   "outputs": [],
   "source": [
    "from sklearn.datasets import load_boston"
   ]
  },
  {
   "cell_type": "code",
   "execution_count": 3,
   "metadata": {},
   "outputs": [],
   "source": [
    "boston_dataset = load_boston()"
   ]
  },
  {
   "cell_type": "code",
   "execution_count": 4,
   "metadata": {},
   "outputs": [
    {
     "data": {
      "text/plain": [
       "dict_keys(['data', 'target', 'feature_names', 'DESCR', 'filename'])"
      ]
     },
     "execution_count": 4,
     "metadata": {},
     "output_type": "execute_result"
    }
   ],
   "source": [
    "boston_dataset.keys()"
   ]
  },
  {
   "cell_type": "code",
   "execution_count": 5,
   "metadata": {},
   "outputs": [],
   "source": [
    "boston = pd.DataFrame(boston_dataset.data,columns=boston_dataset.feature_names)"
   ]
  },
  {
   "cell_type": "code",
   "execution_count": 6,
   "metadata": {},
   "outputs": [
    {
     "data": {
      "text/html": [
       "<div>\n",
       "<style scoped>\n",
       "    .dataframe tbody tr th:only-of-type {\n",
       "        vertical-align: middle;\n",
       "    }\n",
       "\n",
       "    .dataframe tbody tr th {\n",
       "        vertical-align: top;\n",
       "    }\n",
       "\n",
       "    .dataframe thead th {\n",
       "        text-align: right;\n",
       "    }\n",
       "</style>\n",
       "<table border=\"1\" class=\"dataframe\">\n",
       "  <thead>\n",
       "    <tr style=\"text-align: right;\">\n",
       "      <th></th>\n",
       "      <th>CRIM</th>\n",
       "      <th>ZN</th>\n",
       "      <th>INDUS</th>\n",
       "      <th>CHAS</th>\n",
       "      <th>NOX</th>\n",
       "      <th>RM</th>\n",
       "      <th>AGE</th>\n",
       "      <th>DIS</th>\n",
       "      <th>RAD</th>\n",
       "      <th>TAX</th>\n",
       "      <th>PTRATIO</th>\n",
       "      <th>B</th>\n",
       "      <th>LSTAT</th>\n",
       "    </tr>\n",
       "  </thead>\n",
       "  <tbody>\n",
       "    <tr>\n",
       "      <th>0</th>\n",
       "      <td>0.00632</td>\n",
       "      <td>18.0</td>\n",
       "      <td>2.31</td>\n",
       "      <td>0.0</td>\n",
       "      <td>0.538</td>\n",
       "      <td>6.575</td>\n",
       "      <td>65.2</td>\n",
       "      <td>4.0900</td>\n",
       "      <td>1.0</td>\n",
       "      <td>296.0</td>\n",
       "      <td>15.3</td>\n",
       "      <td>396.90</td>\n",
       "      <td>4.98</td>\n",
       "    </tr>\n",
       "    <tr>\n",
       "      <th>1</th>\n",
       "      <td>0.02731</td>\n",
       "      <td>0.0</td>\n",
       "      <td>7.07</td>\n",
       "      <td>0.0</td>\n",
       "      <td>0.469</td>\n",
       "      <td>6.421</td>\n",
       "      <td>78.9</td>\n",
       "      <td>4.9671</td>\n",
       "      <td>2.0</td>\n",
       "      <td>242.0</td>\n",
       "      <td>17.8</td>\n",
       "      <td>396.90</td>\n",
       "      <td>9.14</td>\n",
       "    </tr>\n",
       "    <tr>\n",
       "      <th>2</th>\n",
       "      <td>0.02729</td>\n",
       "      <td>0.0</td>\n",
       "      <td>7.07</td>\n",
       "      <td>0.0</td>\n",
       "      <td>0.469</td>\n",
       "      <td>7.185</td>\n",
       "      <td>61.1</td>\n",
       "      <td>4.9671</td>\n",
       "      <td>2.0</td>\n",
       "      <td>242.0</td>\n",
       "      <td>17.8</td>\n",
       "      <td>392.83</td>\n",
       "      <td>4.03</td>\n",
       "    </tr>\n",
       "    <tr>\n",
       "      <th>3</th>\n",
       "      <td>0.03237</td>\n",
       "      <td>0.0</td>\n",
       "      <td>2.18</td>\n",
       "      <td>0.0</td>\n",
       "      <td>0.458</td>\n",
       "      <td>6.998</td>\n",
       "      <td>45.8</td>\n",
       "      <td>6.0622</td>\n",
       "      <td>3.0</td>\n",
       "      <td>222.0</td>\n",
       "      <td>18.7</td>\n",
       "      <td>394.63</td>\n",
       "      <td>2.94</td>\n",
       "    </tr>\n",
       "    <tr>\n",
       "      <th>4</th>\n",
       "      <td>0.06905</td>\n",
       "      <td>0.0</td>\n",
       "      <td>2.18</td>\n",
       "      <td>0.0</td>\n",
       "      <td>0.458</td>\n",
       "      <td>7.147</td>\n",
       "      <td>54.2</td>\n",
       "      <td>6.0622</td>\n",
       "      <td>3.0</td>\n",
       "      <td>222.0</td>\n",
       "      <td>18.7</td>\n",
       "      <td>396.90</td>\n",
       "      <td>5.33</td>\n",
       "    </tr>\n",
       "  </tbody>\n",
       "</table>\n",
       "</div>"
      ],
      "text/plain": [
       "      CRIM    ZN  INDUS  CHAS    NOX     RM   AGE     DIS  RAD    TAX  \\\n",
       "0  0.00632  18.0   2.31   0.0  0.538  6.575  65.2  4.0900  1.0  296.0   \n",
       "1  0.02731   0.0   7.07   0.0  0.469  6.421  78.9  4.9671  2.0  242.0   \n",
       "2  0.02729   0.0   7.07   0.0  0.469  7.185  61.1  4.9671  2.0  242.0   \n",
       "3  0.03237   0.0   2.18   0.0  0.458  6.998  45.8  6.0622  3.0  222.0   \n",
       "4  0.06905   0.0   2.18   0.0  0.458  7.147  54.2  6.0622  3.0  222.0   \n",
       "\n",
       "   PTRATIO       B  LSTAT  \n",
       "0     15.3  396.90   4.98  \n",
       "1     17.8  396.90   9.14  \n",
       "2     17.8  392.83   4.03  \n",
       "3     18.7  394.63   2.94  \n",
       "4     18.7  396.90   5.33  "
      ]
     },
     "execution_count": 6,
     "metadata": {},
     "output_type": "execute_result"
    }
   ],
   "source": [
    "boston.head()"
   ]
  },
  {
   "cell_type": "markdown",
   "metadata": {},
   "source": [
    "The target is missing from the dataset."
   ]
  },
  {
   "cell_type": "code",
   "execution_count": 7,
   "metadata": {},
   "outputs": [
    {
     "data": {
      "text/html": [
       "<div>\n",
       "<style scoped>\n",
       "    .dataframe tbody tr th:only-of-type {\n",
       "        vertical-align: middle;\n",
       "    }\n",
       "\n",
       "    .dataframe tbody tr th {\n",
       "        vertical-align: top;\n",
       "    }\n",
       "\n",
       "    .dataframe thead th {\n",
       "        text-align: right;\n",
       "    }\n",
       "</style>\n",
       "<table border=\"1\" class=\"dataframe\">\n",
       "  <thead>\n",
       "    <tr style=\"text-align: right;\">\n",
       "      <th></th>\n",
       "      <th>CRIM</th>\n",
       "      <th>ZN</th>\n",
       "      <th>INDUS</th>\n",
       "      <th>CHAS</th>\n",
       "      <th>NOX</th>\n",
       "      <th>RM</th>\n",
       "      <th>AGE</th>\n",
       "      <th>DIS</th>\n",
       "      <th>RAD</th>\n",
       "      <th>TAX</th>\n",
       "      <th>PTRATIO</th>\n",
       "      <th>B</th>\n",
       "      <th>LSTAT</th>\n",
       "      <th>MEDV</th>\n",
       "    </tr>\n",
       "  </thead>\n",
       "  <tbody>\n",
       "    <tr>\n",
       "      <th>0</th>\n",
       "      <td>0.00632</td>\n",
       "      <td>18.0</td>\n",
       "      <td>2.31</td>\n",
       "      <td>0.0</td>\n",
       "      <td>0.538</td>\n",
       "      <td>6.575</td>\n",
       "      <td>65.2</td>\n",
       "      <td>4.0900</td>\n",
       "      <td>1.0</td>\n",
       "      <td>296.0</td>\n",
       "      <td>15.3</td>\n",
       "      <td>396.90</td>\n",
       "      <td>4.98</td>\n",
       "      <td>24.0</td>\n",
       "    </tr>\n",
       "    <tr>\n",
       "      <th>1</th>\n",
       "      <td>0.02731</td>\n",
       "      <td>0.0</td>\n",
       "      <td>7.07</td>\n",
       "      <td>0.0</td>\n",
       "      <td>0.469</td>\n",
       "      <td>6.421</td>\n",
       "      <td>78.9</td>\n",
       "      <td>4.9671</td>\n",
       "      <td>2.0</td>\n",
       "      <td>242.0</td>\n",
       "      <td>17.8</td>\n",
       "      <td>396.90</td>\n",
       "      <td>9.14</td>\n",
       "      <td>21.6</td>\n",
       "    </tr>\n",
       "    <tr>\n",
       "      <th>2</th>\n",
       "      <td>0.02729</td>\n",
       "      <td>0.0</td>\n",
       "      <td>7.07</td>\n",
       "      <td>0.0</td>\n",
       "      <td>0.469</td>\n",
       "      <td>7.185</td>\n",
       "      <td>61.1</td>\n",
       "      <td>4.9671</td>\n",
       "      <td>2.0</td>\n",
       "      <td>242.0</td>\n",
       "      <td>17.8</td>\n",
       "      <td>392.83</td>\n",
       "      <td>4.03</td>\n",
       "      <td>34.7</td>\n",
       "    </tr>\n",
       "    <tr>\n",
       "      <th>3</th>\n",
       "      <td>0.03237</td>\n",
       "      <td>0.0</td>\n",
       "      <td>2.18</td>\n",
       "      <td>0.0</td>\n",
       "      <td>0.458</td>\n",
       "      <td>6.998</td>\n",
       "      <td>45.8</td>\n",
       "      <td>6.0622</td>\n",
       "      <td>3.0</td>\n",
       "      <td>222.0</td>\n",
       "      <td>18.7</td>\n",
       "      <td>394.63</td>\n",
       "      <td>2.94</td>\n",
       "      <td>33.4</td>\n",
       "    </tr>\n",
       "    <tr>\n",
       "      <th>4</th>\n",
       "      <td>0.06905</td>\n",
       "      <td>0.0</td>\n",
       "      <td>2.18</td>\n",
       "      <td>0.0</td>\n",
       "      <td>0.458</td>\n",
       "      <td>7.147</td>\n",
       "      <td>54.2</td>\n",
       "      <td>6.0622</td>\n",
       "      <td>3.0</td>\n",
       "      <td>222.0</td>\n",
       "      <td>18.7</td>\n",
       "      <td>396.90</td>\n",
       "      <td>5.33</td>\n",
       "      <td>36.2</td>\n",
       "    </tr>\n",
       "  </tbody>\n",
       "</table>\n",
       "</div>"
      ],
      "text/plain": [
       "      CRIM    ZN  INDUS  CHAS    NOX     RM   AGE     DIS  RAD    TAX  \\\n",
       "0  0.00632  18.0   2.31   0.0  0.538  6.575  65.2  4.0900  1.0  296.0   \n",
       "1  0.02731   0.0   7.07   0.0  0.469  6.421  78.9  4.9671  2.0  242.0   \n",
       "2  0.02729   0.0   7.07   0.0  0.469  7.185  61.1  4.9671  2.0  242.0   \n",
       "3  0.03237   0.0   2.18   0.0  0.458  6.998  45.8  6.0622  3.0  222.0   \n",
       "4  0.06905   0.0   2.18   0.0  0.458  7.147  54.2  6.0622  3.0  222.0   \n",
       "\n",
       "   PTRATIO       B  LSTAT  MEDV  \n",
       "0     15.3  396.90   4.98  24.0  \n",
       "1     17.8  396.90   9.14  21.6  \n",
       "2     17.8  392.83   4.03  34.7  \n",
       "3     18.7  394.63   2.94  33.4  \n",
       "4     18.7  396.90   5.33  36.2  "
      ]
     },
     "execution_count": 7,
     "metadata": {},
     "output_type": "execute_result"
    }
   ],
   "source": [
    "boston['MEDV'] = boston_dataset.target\n",
    "boston.head()"
   ]
  },
  {
   "cell_type": "code",
   "execution_count": 8,
   "metadata": {},
   "outputs": [
    {
     "name": "stdout",
     "output_type": "stream",
     "text": [
      "<class 'pandas.core.frame.DataFrame'>\n",
      "RangeIndex: 506 entries, 0 to 505\n",
      "Data columns (total 14 columns):\n",
      " #   Column   Non-Null Count  Dtype  \n",
      "---  ------   --------------  -----  \n",
      " 0   CRIM     506 non-null    float64\n",
      " 1   ZN       506 non-null    float64\n",
      " 2   INDUS    506 non-null    float64\n",
      " 3   CHAS     506 non-null    float64\n",
      " 4   NOX      506 non-null    float64\n",
      " 5   RM       506 non-null    float64\n",
      " 6   AGE      506 non-null    float64\n",
      " 7   DIS      506 non-null    float64\n",
      " 8   RAD      506 non-null    float64\n",
      " 9   TAX      506 non-null    float64\n",
      " 10  PTRATIO  506 non-null    float64\n",
      " 11  B        506 non-null    float64\n",
      " 12  LSTAT    506 non-null    float64\n",
      " 13  MEDV     506 non-null    float64\n",
      "dtypes: float64(14)\n",
      "memory usage: 55.5 KB\n"
     ]
    }
   ],
   "source": [
    "boston.info()\n"
   ]
  },
  {
   "cell_type": "code",
   "execution_count": 9,
   "metadata": {},
   "outputs": [
    {
     "data": {
      "text/html": [
       "<div>\n",
       "<style scoped>\n",
       "    .dataframe tbody tr th:only-of-type {\n",
       "        vertical-align: middle;\n",
       "    }\n",
       "\n",
       "    .dataframe tbody tr th {\n",
       "        vertical-align: top;\n",
       "    }\n",
       "\n",
       "    .dataframe thead th {\n",
       "        text-align: right;\n",
       "    }\n",
       "</style>\n",
       "<table border=\"1\" class=\"dataframe\">\n",
       "  <thead>\n",
       "    <tr style=\"text-align: right;\">\n",
       "      <th></th>\n",
       "      <th>CRIM</th>\n",
       "      <th>ZN</th>\n",
       "      <th>INDUS</th>\n",
       "      <th>CHAS</th>\n",
       "      <th>NOX</th>\n",
       "      <th>RM</th>\n",
       "      <th>AGE</th>\n",
       "      <th>DIS</th>\n",
       "      <th>RAD</th>\n",
       "      <th>TAX</th>\n",
       "      <th>PTRATIO</th>\n",
       "      <th>B</th>\n",
       "      <th>LSTAT</th>\n",
       "      <th>MEDV</th>\n",
       "    </tr>\n",
       "  </thead>\n",
       "  <tbody>\n",
       "    <tr>\n",
       "      <th>count</th>\n",
       "      <td>506.000000</td>\n",
       "      <td>506.000000</td>\n",
       "      <td>506.000000</td>\n",
       "      <td>506.000000</td>\n",
       "      <td>506.000000</td>\n",
       "      <td>506.000000</td>\n",
       "      <td>506.000000</td>\n",
       "      <td>506.000000</td>\n",
       "      <td>506.000000</td>\n",
       "      <td>506.000000</td>\n",
       "      <td>506.000000</td>\n",
       "      <td>506.000000</td>\n",
       "      <td>506.000000</td>\n",
       "      <td>506.000000</td>\n",
       "    </tr>\n",
       "    <tr>\n",
       "      <th>mean</th>\n",
       "      <td>3.613524</td>\n",
       "      <td>11.363636</td>\n",
       "      <td>11.136779</td>\n",
       "      <td>0.069170</td>\n",
       "      <td>0.554695</td>\n",
       "      <td>6.284634</td>\n",
       "      <td>68.574901</td>\n",
       "      <td>3.795043</td>\n",
       "      <td>9.549407</td>\n",
       "      <td>408.237154</td>\n",
       "      <td>18.455534</td>\n",
       "      <td>356.674032</td>\n",
       "      <td>12.653063</td>\n",
       "      <td>22.532806</td>\n",
       "    </tr>\n",
       "    <tr>\n",
       "      <th>std</th>\n",
       "      <td>8.601545</td>\n",
       "      <td>23.322453</td>\n",
       "      <td>6.860353</td>\n",
       "      <td>0.253994</td>\n",
       "      <td>0.115878</td>\n",
       "      <td>0.702617</td>\n",
       "      <td>28.148861</td>\n",
       "      <td>2.105710</td>\n",
       "      <td>8.707259</td>\n",
       "      <td>168.537116</td>\n",
       "      <td>2.164946</td>\n",
       "      <td>91.294864</td>\n",
       "      <td>7.141062</td>\n",
       "      <td>9.197104</td>\n",
       "    </tr>\n",
       "    <tr>\n",
       "      <th>min</th>\n",
       "      <td>0.006320</td>\n",
       "      <td>0.000000</td>\n",
       "      <td>0.460000</td>\n",
       "      <td>0.000000</td>\n",
       "      <td>0.385000</td>\n",
       "      <td>3.561000</td>\n",
       "      <td>2.900000</td>\n",
       "      <td>1.129600</td>\n",
       "      <td>1.000000</td>\n",
       "      <td>187.000000</td>\n",
       "      <td>12.600000</td>\n",
       "      <td>0.320000</td>\n",
       "      <td>1.730000</td>\n",
       "      <td>5.000000</td>\n",
       "    </tr>\n",
       "    <tr>\n",
       "      <th>25%</th>\n",
       "      <td>0.082045</td>\n",
       "      <td>0.000000</td>\n",
       "      <td>5.190000</td>\n",
       "      <td>0.000000</td>\n",
       "      <td>0.449000</td>\n",
       "      <td>5.885500</td>\n",
       "      <td>45.025000</td>\n",
       "      <td>2.100175</td>\n",
       "      <td>4.000000</td>\n",
       "      <td>279.000000</td>\n",
       "      <td>17.400000</td>\n",
       "      <td>375.377500</td>\n",
       "      <td>6.950000</td>\n",
       "      <td>17.025000</td>\n",
       "    </tr>\n",
       "    <tr>\n",
       "      <th>50%</th>\n",
       "      <td>0.256510</td>\n",
       "      <td>0.000000</td>\n",
       "      <td>9.690000</td>\n",
       "      <td>0.000000</td>\n",
       "      <td>0.538000</td>\n",
       "      <td>6.208500</td>\n",
       "      <td>77.500000</td>\n",
       "      <td>3.207450</td>\n",
       "      <td>5.000000</td>\n",
       "      <td>330.000000</td>\n",
       "      <td>19.050000</td>\n",
       "      <td>391.440000</td>\n",
       "      <td>11.360000</td>\n",
       "      <td>21.200000</td>\n",
       "    </tr>\n",
       "    <tr>\n",
       "      <th>75%</th>\n",
       "      <td>3.677083</td>\n",
       "      <td>12.500000</td>\n",
       "      <td>18.100000</td>\n",
       "      <td>0.000000</td>\n",
       "      <td>0.624000</td>\n",
       "      <td>6.623500</td>\n",
       "      <td>94.075000</td>\n",
       "      <td>5.188425</td>\n",
       "      <td>24.000000</td>\n",
       "      <td>666.000000</td>\n",
       "      <td>20.200000</td>\n",
       "      <td>396.225000</td>\n",
       "      <td>16.955000</td>\n",
       "      <td>25.000000</td>\n",
       "    </tr>\n",
       "    <tr>\n",
       "      <th>max</th>\n",
       "      <td>88.976200</td>\n",
       "      <td>100.000000</td>\n",
       "      <td>27.740000</td>\n",
       "      <td>1.000000</td>\n",
       "      <td>0.871000</td>\n",
       "      <td>8.780000</td>\n",
       "      <td>100.000000</td>\n",
       "      <td>12.126500</td>\n",
       "      <td>24.000000</td>\n",
       "      <td>711.000000</td>\n",
       "      <td>22.000000</td>\n",
       "      <td>396.900000</td>\n",
       "      <td>37.970000</td>\n",
       "      <td>50.000000</td>\n",
       "    </tr>\n",
       "  </tbody>\n",
       "</table>\n",
       "</div>"
      ],
      "text/plain": [
       "             CRIM          ZN       INDUS        CHAS         NOX          RM  \\\n",
       "count  506.000000  506.000000  506.000000  506.000000  506.000000  506.000000   \n",
       "mean     3.613524   11.363636   11.136779    0.069170    0.554695    6.284634   \n",
       "std      8.601545   23.322453    6.860353    0.253994    0.115878    0.702617   \n",
       "min      0.006320    0.000000    0.460000    0.000000    0.385000    3.561000   \n",
       "25%      0.082045    0.000000    5.190000    0.000000    0.449000    5.885500   \n",
       "50%      0.256510    0.000000    9.690000    0.000000    0.538000    6.208500   \n",
       "75%      3.677083   12.500000   18.100000    0.000000    0.624000    6.623500   \n",
       "max     88.976200  100.000000   27.740000    1.000000    0.871000    8.780000   \n",
       "\n",
       "              AGE         DIS         RAD         TAX     PTRATIO           B  \\\n",
       "count  506.000000  506.000000  506.000000  506.000000  506.000000  506.000000   \n",
       "mean    68.574901    3.795043    9.549407  408.237154   18.455534  356.674032   \n",
       "std     28.148861    2.105710    8.707259  168.537116    2.164946   91.294864   \n",
       "min      2.900000    1.129600    1.000000  187.000000   12.600000    0.320000   \n",
       "25%     45.025000    2.100175    4.000000  279.000000   17.400000  375.377500   \n",
       "50%     77.500000    3.207450    5.000000  330.000000   19.050000  391.440000   \n",
       "75%     94.075000    5.188425   24.000000  666.000000   20.200000  396.225000   \n",
       "max    100.000000   12.126500   24.000000  711.000000   22.000000  396.900000   \n",
       "\n",
       "            LSTAT        MEDV  \n",
       "count  506.000000  506.000000  \n",
       "mean    12.653063   22.532806  \n",
       "std      7.141062    9.197104  \n",
       "min      1.730000    5.000000  \n",
       "25%      6.950000   17.025000  \n",
       "50%     11.360000   21.200000  \n",
       "75%     16.955000   25.000000  \n",
       "max     37.970000   50.000000  "
      ]
     },
     "execution_count": 9,
     "metadata": {},
     "output_type": "execute_result"
    }
   ],
   "source": [
    "boston.describe()"
   ]
  },
  {
   "cell_type": "markdown",
   "metadata": {},
   "source": [
    "# Data Visualization"
   ]
  },
  {
   "cell_type": "code",
   "execution_count": 10,
   "metadata": {},
   "outputs": [
    {
     "data": {
      "text/plain": [
       "<matplotlib.axes._subplots.AxesSubplot at 0x1e5116b84c8>"
      ]
     },
     "execution_count": 10,
     "metadata": {},
     "output_type": "execute_result"
    },
    {
     "data": {
      "image/png": "[encoded data removed]",
      "text/plain": [
       "<Figure size 432x288 with 1 Axes>"
      ]
     },
     "metadata": {
      "needs_background": "light"
     },
     "output_type": "display_data"
    }
   ],
   "source": [
    "sns.distplot(boston['MEDV'],bins=30)"
   ]
  },
  {
   "cell_type": "code",
   "execution_count": 11,
   "metadata": {},
   "outputs": [
    {
     "data": {
      "text/plain": [
       "<matplotlib.axes._subplots.AxesSubplot at 0x1e511f1d708>"
      ]
     },
     "execution_count": 11,
     "metadata": {},
     "output_type": "execute_result"
    },
    {
     "data": {
      "image/png": "[encoded data removed]",
      "text/plain": [
       "<Figure size 648x648 with 2 Axes>"
      ]
     },
     "metadata": {
      "needs_background": "light"
     },
     "output_type": "display_data"
    }
   ],
   "source": [
    "plt.figure(figsize=(9,9))\n",
    "sns.heatmap(boston.corr(),annot=True) "
   ]
  },
  {
   "cell_type": "markdown",
   "metadata": {},
   "source": [
    "So we have visualised the correlation of the features through heat map!"
   ]
  },
  {
   "cell_type": "code",
   "execution_count": 12,
   "metadata": {},
   "outputs": [
    {
     "data": {
      "text/plain": [
       "Index(['CRIM', 'ZN', 'INDUS', 'CHAS', 'NOX', 'RM', 'AGE', 'DIS', 'RAD', 'TAX',\n",
       "       'PTRATIO', 'B', 'LSTAT', 'MEDV'],\n",
       "      dtype='object')"
      ]
     },
     "execution_count": 12,
     "metadata": {},
     "output_type": "execute_result"
    }
   ],
   "source": [
    "boston.columns"
   ]
  },
  {
   "cell_type": "markdown",
   "metadata": {},
   "source": [
    "# Data Cleaning"
   ]
  },
  {
   "cell_type": "code",
   "execution_count": 13,
   "metadata": {},
   "outputs": [],
   "source": [
    "#the features have correlation with the taregt less than mod(0.5) will be dropped"
   ]
  },
  {
   "cell_type": "code",
   "execution_count": 14,
   "metadata": {},
   "outputs": [],
   "source": [
    "boston = boston.drop(['CRIM', 'ZN', 'INDUS', 'CHAS', 'NOX', 'AGE', 'DIS', 'RAD', 'TAX', 'B'],axis=1)"
   ]
  },
  {
   "cell_type": "code",
   "execution_count": 15,
   "metadata": {},
   "outputs": [
    {
     "data": {
      "text/html": [
       "<div>\n",
       "<style scoped>\n",
       "    .dataframe tbody tr th:only-of-type {\n",
       "        vertical-align: middle;\n",
       "    }\n",
       "\n",
       "    .dataframe tbody tr th {\n",
       "        vertical-align: top;\n",
       "    }\n",
       "\n",
       "    .dataframe thead th {\n",
       "        text-align: right;\n",
       "    }\n",
       "</style>\n",
       "<table border=\"1\" class=\"dataframe\">\n",
       "  <thead>\n",
       "    <tr style=\"text-align: right;\">\n",
       "      <th></th>\n",
       "      <th>RM</th>\n",
       "      <th>PTRATIO</th>\n",
       "      <th>LSTAT</th>\n",
       "      <th>MEDV</th>\n",
       "    </tr>\n",
       "  </thead>\n",
       "  <tbody>\n",
       "    <tr>\n",
       "      <th>0</th>\n",
       "      <td>6.575</td>\n",
       "      <td>15.3</td>\n",
       "      <td>4.98</td>\n",
       "      <td>24.0</td>\n",
       "    </tr>\n",
       "    <tr>\n",
       "      <th>1</th>\n",
       "      <td>6.421</td>\n",
       "      <td>17.8</td>\n",
       "      <td>9.14</td>\n",
       "      <td>21.6</td>\n",
       "    </tr>\n",
       "    <tr>\n",
       "      <th>2</th>\n",
       "      <td>7.185</td>\n",
       "      <td>17.8</td>\n",
       "      <td>4.03</td>\n",
       "      <td>34.7</td>\n",
       "    </tr>\n",
       "    <tr>\n",
       "      <th>3</th>\n",
       "      <td>6.998</td>\n",
       "      <td>18.7</td>\n",
       "      <td>2.94</td>\n",
       "      <td>33.4</td>\n",
       "    </tr>\n",
       "    <tr>\n",
       "      <th>4</th>\n",
       "      <td>7.147</td>\n",
       "      <td>18.7</td>\n",
       "      <td>5.33</td>\n",
       "      <td>36.2</td>\n",
       "    </tr>\n",
       "  </tbody>\n",
       "</table>\n",
       "</div>"
      ],
      "text/plain": [
       "      RM  PTRATIO  LSTAT  MEDV\n",
       "0  6.575     15.3   4.98  24.0\n",
       "1  6.421     17.8   9.14  21.6\n",
       "2  7.185     17.8   4.03  34.7\n",
       "3  6.998     18.7   2.94  33.4\n",
       "4  7.147     18.7   5.33  36.2"
      ]
     },
     "execution_count": 15,
     "metadata": {},
     "output_type": "execute_result"
    }
   ],
   "source": [
    "boston.head()"
   ]
  },
  {
   "cell_type": "code",
   "execution_count": 16,
   "metadata": {},
   "outputs": [],
   "source": [
    "X = boston.drop('MEDV',axis=1)\n",
    "y = boston['MEDV']"
   ]
  },
  {
   "cell_type": "code",
   "execution_count": 17,
   "metadata": {},
   "outputs": [
    {
     "data": {
      "text/plain": [
       "(506, 3)"
      ]
     },
     "execution_count": 17,
     "metadata": {},
     "output_type": "execute_result"
    }
   ],
   "source": [
    "X.shape"
   ]
  },
  {
   "cell_type": "code",
   "execution_count": 18,
   "metadata": {},
   "outputs": [
    {
     "data": {
      "text/plain": [
       "(506,)"
      ]
     },
     "execution_count": 18,
     "metadata": {},
     "output_type": "execute_result"
    }
   ],
   "source": [
    "y.shape"
   ]
  },
  {
   "cell_type": "markdown",
   "metadata": {},
   "source": [
    "# Training the data"
   ]
  },
  {
   "cell_type": "code",
   "execution_count": 19,
   "metadata": {},
   "outputs": [],
   "source": [
    "from sklearn.model_selection import train_test_split"
   ]
  },
  {
   "cell_type": "code",
   "execution_count": 20,
   "metadata": {},
   "outputs": [],
   "source": [
    "X_train, X_test, y_train, y_test = train_test_split(X, y, test_size=0.30, random_state=101)"
   ]
  },
  {
   "cell_type": "code",
   "execution_count": 21,
   "metadata": {},
   "outputs": [
    {
     "data": {
      "text/plain": [
       "(354, 3)"
      ]
     },
     "execution_count": 21,
     "metadata": {},
     "output_type": "execute_result"
    }
   ],
   "source": [
    "X_train.shape"
   ]
  },
  {
   "cell_type": "code",
   "execution_count": 22,
   "metadata": {},
   "outputs": [
    {
     "data": {
      "text/plain": [
       "(152, 3)"
      ]
     },
     "execution_count": 22,
     "metadata": {},
     "output_type": "execute_result"
    }
   ],
   "source": [
    "X_test.shape"
   ]
  },
  {
   "cell_type": "code",
   "execution_count": 23,
   "metadata": {},
   "outputs": [
    {
     "data": {
      "text/plain": [
       "(354,)"
      ]
     },
     "execution_count": 23,
     "metadata": {},
     "output_type": "execute_result"
    }
   ],
   "source": [
    "y_train.shape"
   ]
  },
  {
   "cell_type": "code",
   "execution_count": 24,
   "metadata": {},
   "outputs": [
    {
     "data": {
      "text/plain": [
       "(152,)"
      ]
     },
     "execution_count": 24,
     "metadata": {},
     "output_type": "execute_result"
    }
   ],
   "source": [
    "y_test.shape"
   ]
  },
  {
   "cell_type": "markdown",
   "metadata": {},
   "source": [
    "# Building the ANN Model"
   ]
  },
  {
   "cell_type": "code",
   "execution_count": 25,
   "metadata": {},
   "outputs": [
    {
     "name": "stderr",
     "output_type": "stream",
     "text": [
      "C:\\ProgramData\\Anaconda3\\lib\\site-packages\\tensorflow\\python\\framework\\dtypes.py:516: FutureWarning: Passing (type, 1) or '1type' as a synonym of type is deprecated; in a future version of numpy, it will be understood as (type, (1,)) / '(1,)type'.\n",
      "  _np_qint8 = np.dtype([(\"qint8\", np.int8, 1)])\n",
      "C:\\ProgramData\\Anaconda3\\lib\\site-packages\\tensorflow\\python\\framework\\dtypes.py:517: FutureWarning: Passing (type, 1) or '1type' as a synonym of type is deprecated; in a future version of numpy, it will be understood as (type, (1,)) / '(1,)type'.\n",
      "  _np_quint8 = np.dtype([(\"quint8\", np.uint8, 1)])\n",
      "C:\\ProgramData\\Anaconda3\\lib\\site-packages\\tensorflow\\python\\framework\\dtypes.py:518: FutureWarning: Passing (type, 1) or '1type' as a synonym of type is deprecated; in a future version of numpy, it will be understood as (type, (1,)) / '(1,)type'.\n",
      "  _np_qint16 = np.dtype([(\"qint16\", np.int16, 1)])\n",
      "C:\\ProgramData\\Anaconda3\\lib\\site-packages\\tensorflow\\python\\framework\\dtypes.py:519: FutureWarning: Passing (type, 1) or '1type' as a synonym of type is deprecated; in a future version of numpy, it will be understood as (type, (1,)) / '(1,)type'.\n",
      "  _np_quint16 = np.dtype([(\"quint16\", np.uint16, 1)])\n",
      "C:\\ProgramData\\Anaconda3\\lib\\site-packages\\tensorflow\\python\\framework\\dtypes.py:520: FutureWarning: Passing (type, 1) or '1type' as a synonym of type is deprecated; in a future version of numpy, it will be understood as (type, (1,)) / '(1,)type'.\n",
      "  _np_qint32 = np.dtype([(\"qint32\", np.int32, 1)])\n",
      "C:\\ProgramData\\Anaconda3\\lib\\site-packages\\tensorflow\\python\\framework\\dtypes.py:525: FutureWarning: Passing (type, 1) or '1type' as a synonym of type is deprecated; in a future version of numpy, it will be understood as (type, (1,)) / '(1,)type'.\n",
      "  np_resource = np.dtype([(\"resource\", np.ubyte, 1)])\n",
      "C:\\ProgramData\\Anaconda3\\lib\\site-packages\\tensorboard\\compat\\tensorflow_stub\\dtypes.py:541: FutureWarning: Passing (type, 1) or '1type' as a synonym of type is deprecated; in a future version of numpy, it will be understood as (type, (1,)) / '(1,)type'.\n",
      "  _np_qint8 = np.dtype([(\"qint8\", np.int8, 1)])\n",
      "C:\\ProgramData\\Anaconda3\\lib\\site-packages\\tensorboard\\compat\\tensorflow_stub\\dtypes.py:542: FutureWarning: Passing (type, 1) or '1type' as a synonym of type is deprecated; in a future version of numpy, it will be understood as (type, (1,)) / '(1,)type'.\n",
      "  _np_quint8 = np.dtype([(\"quint8\", np.uint8, 1)])\n",
      "C:\\ProgramData\\Anaconda3\\lib\\site-packages\\tensorboard\\compat\\tensorflow_stub\\dtypes.py:543: FutureWarning: Passing (type, 1) or '1type' as a synonym of type is deprecated; in a future version of numpy, it will be understood as (type, (1,)) / '(1,)type'.\n",
      "  _np_qint16 = np.dtype([(\"qint16\", np.int16, 1)])\n",
      "C:\\ProgramData\\Anaconda3\\lib\\site-packages\\tensorboard\\compat\\tensorflow_stub\\dtypes.py:544: FutureWarning: Passing (type, 1) or '1type' as a synonym of type is deprecated; in a future version of numpy, it will be understood as (type, (1,)) / '(1,)type'.\n",
      "  _np_quint16 = np.dtype([(\"quint16\", np.uint16, 1)])\n",
      "C:\\ProgramData\\Anaconda3\\lib\\site-packages\\tensorboard\\compat\\tensorflow_stub\\dtypes.py:545: FutureWarning: Passing (type, 1) or '1type' as a synonym of type is deprecated; in a future version of numpy, it will be understood as (type, (1,)) / '(1,)type'.\n",
      "  _np_qint32 = np.dtype([(\"qint32\", np.int32, 1)])\n",
      "C:\\ProgramData\\Anaconda3\\lib\\site-packages\\tensorboard\\compat\\tensorflow_stub\\dtypes.py:550: FutureWarning: Passing (type, 1) or '1type' as a synonym of type is deprecated; in a future version of numpy, it will be understood as (type, (1,)) / '(1,)type'.\n",
      "  np_resource = np.dtype([(\"resource\", np.ubyte, 1)])\n"
     ]
    }
   ],
   "source": [
    "from tensorflow.keras.models import Sequential\n",
    "from tensorflow.keras.layers import Dense"
   ]
  },
  {
   "cell_type": "code",
   "execution_count": 26,
   "metadata": {},
   "outputs": [
    {
     "name": "stdout",
     "output_type": "stream",
     "text": [
      "WARNING:tensorflow:From C:\\ProgramData\\Anaconda3\\lib\\site-packages\\tensorflow\\python\\ops\\init_ops.py:1251: calling VarianceScaling.__init__ (from tensorflow.python.ops.init_ops) with dtype is deprecated and will be removed in a future version.\n",
      "Instructions for updating:\n",
      "Call initializer instance with the dtype argument instead of passing it to the constructor\n"
     ]
    }
   ],
   "source": [
    "model = Sequential()\n",
    "model.add(Dense(60,input_dim=3,activation='relu'))\n",
    "model.add(Dense(60,activation='relu'))\n",
    "model.add(Dense(1,activation= 'linear')) #activation is linar since we want a continous value output"
   ]
  },
  {
   "cell_type": "code",
   "execution_count": 27,
   "metadata": {},
   "outputs": [
    {
     "name": "stdout",
     "output_type": "stream",
     "text": [
      "Model: \"sequential\"\n",
      "_________________________________________________________________\n",
      "Layer (type)                 Output Shape              Param #   \n",
      "=================================================================\n",
      "dense (Dense)                (None, 60)                240       \n",
      "_________________________________________________________________\n",
      "dense_1 (Dense)              (None, 60)                3660      \n",
      "_________________________________________________________________\n",
      "dense_2 (Dense)              (None, 1)                 61        \n",
      "=================================================================\n",
      "Total params: 3,961\n",
      "Trainable params: 3,961\n",
      "Non-trainable params: 0\n",
      "_________________________________________________________________\n"
     ]
    }
   ],
   "source": [
    "model.summary()"
   ]
  },
  {
   "cell_type": "markdown",
   "metadata": {},
   "source": [
    "Lets see how has been the parameters calculated...\n",
    "so, 1st layer has 30 neurons and 3 input features each. Parameters = 30*3(weights) + 30*1(biases)\n",
    "2nd layer has 30 neurons and 30 inputs(features) from previous layer...900(weights) + 30(biases)\n",
    "last layer has 30 inputs from the previous layer... param of 1 neurons = w1(1st input)+............+b\n"
   ]
  },
  {
   "cell_type": "code",
   "execution_count": 28,
   "metadata": {},
   "outputs": [],
   "source": [
    "model.compile(optimizer='adam',loss='mean_squared_error')"
   ]
  },
  {
   "cell_type": "code",
   "execution_count": 29,
   "metadata": {},
   "outputs": [
    {
     "name": "stdout",
     "output_type": "stream",
     "text": [
      "Train on 283 samples, validate on 71 samples\n",
      "Epoch 1/170\n",
      "283/283 [==============================] - 0s 1ms/sample - loss: 454.2109 - val_loss: 296.0521\n",
      "Epoch 2/170\n",
      "283/283 [==============================] - 0s 101us/sample - loss: 306.8403 - val_loss: 179.9258\n",
      "Epoch 3/170\n",
      "283/283 [==============================] - 0s 95us/sample - loss: 201.9917 - val_loss: 111.9212\n",
      "Epoch 4/170\n",
      "283/283 [==============================] - 0s 78us/sample - loss: 145.3472 - val_loss: 85.5003\n",
      "Epoch 5/170\n",
      "283/283 [==============================] - 0s 90us/sample - loss: 124.6228 - val_loss: 80.6865\n",
      "Epoch 6/170\n",
      "283/283 [==============================] - 0s 96us/sample - loss: 114.8363 - val_loss: 79.4050\n",
      "Epoch 7/170\n",
      "283/283 [==============================] - 0s 99us/sample - loss: 109.0652 - val_loss: 73.5109\n",
      "Epoch 8/170\n",
      "283/283 [==============================] - 0s 85us/sample - loss: 99.5013 - val_loss: 63.2817\n",
      "Epoch 9/170\n",
      "283/283 [==============================] - 0s 105us/sample - loss: 89.8447 - val_loss: 55.0277\n",
      "Epoch 10/170\n",
      "283/283 [==============================] - 0s 141us/sample - loss: 82.4759 - val_loss: 49.4067\n",
      "Epoch 11/170\n",
      "283/283 [==============================] - 0s 95us/sample - loss: 76.1064 - val_loss: 45.2596\n",
      "Epoch 12/170\n",
      "283/283 [==============================] - 0s 87us/sample - loss: 70.3457 - val_loss: 42.2705\n",
      "Epoch 13/170\n",
      "283/283 [==============================] - 0s 92us/sample - loss: 65.6060 - val_loss: 40.1755\n",
      "Epoch 14/170\n",
      "283/283 [==============================] - 0s 85us/sample - loss: 62.1768 - val_loss: 38.2987\n",
      "Epoch 15/170\n",
      "283/283 [==============================] - 0s 106us/sample - loss: 59.0453 - val_loss: 36.5455\n",
      "Epoch 16/170\n",
      "283/283 [==============================] - 0s 103us/sample - loss: 56.5778 - val_loss: 35.6038\n",
      "Epoch 17/170\n",
      "283/283 [==============================] - 0s 90us/sample - loss: 54.8354 - val_loss: 35.2193\n",
      "Epoch 18/170\n",
      "283/283 [==============================] - 0s 93us/sample - loss: 53.1630 - val_loss: 35.1093\n",
      "Epoch 19/170\n",
      "283/283 [==============================] - 0s 75us/sample - loss: 52.0282 - val_loss: 34.7615\n",
      "Epoch 20/170\n",
      "283/283 [==============================] - 0s 99us/sample - loss: 50.8434 - val_loss: 34.2672\n",
      "Epoch 21/170\n",
      "283/283 [==============================] - 0s 94us/sample - loss: 49.7790 - val_loss: 33.5607\n",
      "Epoch 22/170\n",
      "283/283 [==============================] - 0s 91us/sample - loss: 48.7218 - val_loss: 33.1869\n",
      "Epoch 23/170\n",
      "283/283 [==============================] - 0s 105us/sample - loss: 47.6618 - val_loss: 32.9076\n",
      "Epoch 24/170\n",
      "283/283 [==============================] - 0s 117us/sample - loss: 46.5239 - val_loss: 32.5598\n",
      "Epoch 25/170\n",
      "283/283 [==============================] - 0s 107us/sample - loss: 45.5171 - val_loss: 32.5932\n",
      "Epoch 26/170\n",
      "283/283 [==============================] - 0s 104us/sample - loss: 44.5667 - val_loss: 31.8654\n",
      "Epoch 27/170\n",
      "283/283 [==============================] - 0s 98us/sample - loss: 43.6278 - val_loss: 31.1459\n",
      "Epoch 28/170\n",
      "283/283 [==============================] - 0s 133us/sample - loss: 42.7007 - val_loss: 31.4009\n",
      "Epoch 29/170\n",
      "283/283 [==============================] - 0s 129us/sample - loss: 42.1460 - val_loss: 31.0752\n",
      "Epoch 30/170\n",
      "283/283 [==============================] - 0s 141us/sample - loss: 40.9633 - val_loss: 29.9707\n",
      "Epoch 31/170\n",
      "283/283 [==============================] - 0s 99us/sample - loss: 40.3344 - val_loss: 29.7739\n",
      "Epoch 32/170\n",
      "283/283 [==============================] - 0s 93us/sample - loss: 39.6841 - val_loss: 30.4683\n",
      "Epoch 33/170\n",
      "283/283 [==============================] - 0s 72us/sample - loss: 38.8215 - val_loss: 29.8485\n",
      "Epoch 34/170\n",
      "283/283 [==============================] - 0s 66us/sample - loss: 38.1015 - val_loss: 29.0936\n",
      "Epoch 35/170\n",
      "283/283 [==============================] - 0s 72us/sample - loss: 37.4783 - val_loss: 29.1674\n",
      "Epoch 36/170\n",
      "283/283 [==============================] - 0s 83us/sample - loss: 36.6187 - val_loss: 28.9484\n",
      "Epoch 37/170\n",
      "283/283 [==============================] - 0s 162us/sample - loss: 36.0345 - val_loss: 28.7371\n",
      "Epoch 38/170\n",
      "283/283 [==============================] - 0s 146us/sample - loss: 35.3759 - val_loss: 29.2679\n",
      "Epoch 39/170\n",
      "283/283 [==============================] - 0s 134us/sample - loss: 34.7123 - val_loss: 28.2751\n",
      "Epoch 40/170\n",
      "283/283 [==============================] - 0s 100us/sample - loss: 34.2291 - val_loss: 27.8523\n",
      "Epoch 41/170\n",
      "283/283 [==============================] - 0s 135us/sample - loss: 33.3198 - val_loss: 28.9846\n",
      "Epoch 42/170\n",
      "283/283 [==============================] - 0s 132us/sample - loss: 32.8624 - val_loss: 28.1880\n",
      "Epoch 43/170\n",
      "283/283 [==============================] - 0s 116us/sample - loss: 32.1479 - val_loss: 27.6352\n",
      "Epoch 44/170\n",
      "283/283 [==============================] - 0s 102us/sample - loss: 31.5914 - val_loss: 27.5313\n",
      "Epoch 45/170\n",
      "283/283 [==============================] - 0s 95us/sample - loss: 30.9370 - val_loss: 27.3419\n",
      "Epoch 46/170\n",
      "283/283 [==============================] - 0s 122us/sample - loss: 30.4857 - val_loss: 27.3494\n",
      "Epoch 47/170\n",
      "283/283 [==============================] - 0s 122us/sample - loss: 29.8403 - val_loss: 26.8151\n",
      "Epoch 48/170\n",
      "283/283 [==============================] - 0s 118us/sample - loss: 29.3538 - val_loss: 26.7242\n",
      "Epoch 49/170\n",
      "283/283 [==============================] - 0s 121us/sample - loss: 28.7168 - val_loss: 26.4452\n",
      "Epoch 50/170\n",
      "283/283 [==============================] - 0s 109us/sample - loss: 28.1631 - val_loss: 26.6910\n",
      "Epoch 51/170\n",
      "283/283 [==============================] - 0s 141us/sample - loss: 27.6673 - val_loss: 26.2450\n",
      "Epoch 52/170\n",
      "283/283 [==============================] - 0s 136us/sample - loss: 27.0750 - val_loss: 26.0769\n",
      "Epoch 53/170\n",
      "283/283 [==============================] - 0s 126us/sample - loss: 26.6199 - val_loss: 25.7979\n",
      "Epoch 54/170\n",
      "283/283 [==============================] - 0s 76us/sample - loss: 26.0653 - val_loss: 25.7757\n",
      "Epoch 55/170\n",
      "283/283 [==============================] - 0s 120us/sample - loss: 25.6457 - val_loss: 25.6804\n",
      "Epoch 56/170\n",
      "283/283 [==============================] - 0s 124us/sample - loss: 25.0601 - val_loss: 25.2366\n",
      "Epoch 57/170\n",
      "283/283 [==============================] - 0s 113us/sample - loss: 24.7374 - val_loss: 25.0861\n",
      "Epoch 58/170\n",
      "283/283 [==============================] - 0s 137us/sample - loss: 24.2343 - val_loss: 25.2978\n",
      "Epoch 59/170\n",
      "283/283 [==============================] - 0s 148us/sample - loss: 24.0339 - val_loss: 25.0485\n",
      "Epoch 60/170\n",
      "283/283 [==============================] - 0s 147us/sample - loss: 23.4145 - val_loss: 24.4447\n",
      "Epoch 61/170\n",
      "283/283 [==============================] - 0s 141us/sample - loss: 23.2697 - val_loss: 25.0558\n",
      "Epoch 62/170\n",
      "283/283 [==============================] - 0s 59us/sample - loss: 22.9115 - val_loss: 24.9328\n",
      "Epoch 63/170\n",
      "283/283 [==============================] - 0s 67us/sample - loss: 22.3389 - val_loss: 24.0788\n",
      "Epoch 64/170\n",
      "283/283 [==============================] - 0s 81us/sample - loss: 22.2007 - val_loss: 24.0848\n",
      "Epoch 65/170\n",
      "283/283 [==============================] - 0s 89us/sample - loss: 21.9482 - val_loss: 24.5790\n",
      "Epoch 66/170\n",
      "283/283 [==============================] - 0s 77us/sample - loss: 21.5023 - val_loss: 24.0625\n",
      "Epoch 67/170\n",
      "283/283 [==============================] - 0s 94us/sample - loss: 21.6069 - val_loss: 23.8337\n",
      "Epoch 68/170\n",
      "283/283 [==============================] - 0s 83us/sample - loss: 21.3972 - val_loss: 24.7244\n",
      "Epoch 69/170\n",
      "283/283 [==============================] - 0s 93us/sample - loss: 20.9082 - val_loss: 23.6164\n",
      "Epoch 70/170\n",
      "283/283 [==============================] - 0s 145us/sample - loss: 20.6772 - val_loss: 24.0070\n",
      "Epoch 71/170\n",
      "283/283 [==============================] - 0s 189us/sample - loss: 20.4751 - val_loss: 23.4958\n",
      "Epoch 72/170\n",
      "283/283 [==============================] - 0s 159us/sample - loss: 20.1398 - val_loss: 23.6207\n",
      "Epoch 73/170\n",
      "283/283 [==============================] - 0s 80us/sample - loss: 20.0980 - val_loss: 23.4316\n",
      "Epoch 74/170\n",
      "283/283 [==============================] - 0s 80us/sample - loss: 19.6624 - val_loss: 23.1023\n",
      "Epoch 75/170\n",
      "283/283 [==============================] - 0s 101us/sample - loss: 19.6070 - val_loss: 23.5534\n",
      "Epoch 76/170\n",
      "283/283 [==============================] - 0s 78us/sample - loss: 19.4469 - val_loss: 23.3896\n"
     ]
    },
    {
     "name": "stdout",
     "output_type": "stream",
     "text": [
      "Epoch 77/170\n",
      "283/283 [==============================] - 0s 80us/sample - loss: 19.3078 - val_loss: 23.0577\n",
      "Epoch 78/170\n",
      "283/283 [==============================] - 0s 90us/sample - loss: 19.0973 - val_loss: 23.1756\n",
      "Epoch 79/170\n",
      "283/283 [==============================] - 0s 114us/sample - loss: 19.0537 - val_loss: 23.2041\n",
      "Epoch 80/170\n",
      "283/283 [==============================] - 0s 65us/sample - loss: 18.7982 - val_loss: 23.4742\n",
      "Epoch 81/170\n",
      "283/283 [==============================] - 0s 76us/sample - loss: 18.7781 - val_loss: 23.1970\n",
      "Epoch 82/170\n",
      "283/283 [==============================] - 0s 54us/sample - loss: 18.5292 - val_loss: 23.4804\n",
      "Epoch 83/170\n",
      "283/283 [==============================] - 0s 85us/sample - loss: 18.6304 - val_loss: 23.1117\n",
      "Epoch 84/170\n",
      "283/283 [==============================] - ETA: 0s - loss: 8.332 - 0s 86us/sample - loss: 18.4158 - val_loss: 22.9273\n",
      "Epoch 85/170\n",
      "283/283 [==============================] - 0s 65us/sample - loss: 18.5414 - val_loss: 22.8650\n",
      "Epoch 86/170\n",
      "283/283 [==============================] - 0s 83us/sample - loss: 18.1360 - val_loss: 23.4122\n",
      "Epoch 87/170\n",
      "283/283 [==============================] - 0s 74us/sample - loss: 18.3091 - val_loss: 22.7874\n",
      "Epoch 88/170\n",
      "283/283 [==============================] - 0s 65us/sample - loss: 18.3557 - val_loss: 22.6657\n",
      "Epoch 89/170\n",
      "283/283 [==============================] - 0s 86us/sample - loss: 18.6151 - val_loss: 23.3071\n",
      "Epoch 90/170\n",
      "283/283 [==============================] - 0s 67us/sample - loss: 18.1578 - val_loss: 22.6579\n",
      "Epoch 91/170\n",
      "283/283 [==============================] - 0s 83us/sample - loss: 17.9980 - val_loss: 23.4351\n",
      "Epoch 92/170\n",
      "283/283 [==============================] - 0s 79us/sample - loss: 17.9287 - val_loss: 22.6779\n",
      "Epoch 93/170\n",
      "283/283 [==============================] - 0s 91us/sample - loss: 17.7268 - val_loss: 23.0396\n",
      "Epoch 94/170\n",
      "283/283 [==============================] - 0s 81us/sample - loss: 17.8226 - val_loss: 22.8312\n",
      "Epoch 95/170\n",
      "283/283 [==============================] - 0s 98us/sample - loss: 17.7604 - val_loss: 22.6268\n",
      "Epoch 96/170\n",
      "283/283 [==============================] - 0s 85us/sample - loss: 17.7637 - val_loss: 22.5989\n",
      "Epoch 97/170\n",
      "283/283 [==============================] - 0s 72us/sample - loss: 17.6390 - val_loss: 22.5883\n",
      "Epoch 98/170\n",
      "283/283 [==============================] - 0s 76us/sample - loss: 17.3083 - val_loss: 23.3520\n",
      "Epoch 99/170\n",
      "283/283 [==============================] - 0s 95us/sample - loss: 17.8288 - val_loss: 22.6958\n",
      "Epoch 100/170\n",
      "283/283 [==============================] - 0s 85us/sample - loss: 17.8250 - val_loss: 22.7077\n",
      "Epoch 101/170\n",
      "283/283 [==============================] - 0s 76us/sample - loss: 17.6753 - val_loss: 22.9556\n",
      "Epoch 102/170\n",
      "283/283 [==============================] - 0s 81us/sample - loss: 17.7294 - val_loss: 22.8301\n",
      "Epoch 103/170\n",
      "283/283 [==============================] - 0s 81us/sample - loss: 17.5842 - val_loss: 22.9828\n",
      "Epoch 104/170\n",
      "283/283 [==============================] - 0s 77us/sample - loss: 17.5981 - val_loss: 22.5111\n",
      "Epoch 105/170\n",
      "283/283 [==============================] - 0s 102us/sample - loss: 17.5102 - val_loss: 22.8315\n",
      "Epoch 106/170\n",
      "283/283 [==============================] - 0s 90us/sample - loss: 17.8645 - val_loss: 22.4835\n",
      "Epoch 107/170\n",
      "283/283 [==============================] - 0s 99us/sample - loss: 17.5889 - val_loss: 23.0668\n",
      "Epoch 108/170\n",
      "283/283 [==============================] - 0s 112us/sample - loss: 17.2668 - val_loss: 22.6169\n",
      "Epoch 109/170\n",
      "283/283 [==============================] - 0s 79us/sample - loss: 17.5174 - val_loss: 22.9799\n",
      "Epoch 110/170\n",
      "283/283 [==============================] - 0s 77us/sample - loss: 17.4599 - val_loss: 22.6504\n",
      "Epoch 111/170\n",
      "283/283 [==============================] - 0s 68us/sample - loss: 17.1869 - val_loss: 22.6899\n",
      "Epoch 112/170\n",
      "283/283 [==============================] - 0s 75us/sample - loss: 17.2717 - val_loss: 22.6706\n",
      "Epoch 113/170\n",
      "283/283 [==============================] - 0s 48us/sample - loss: 17.4108 - val_loss: 22.9617\n",
      "Epoch 114/170\n",
      "283/283 [==============================] - ETA: 0s - loss: 25.50 - 0s 87us/sample - loss: 17.2942 - val_loss: 23.0049\n",
      "Epoch 115/170\n",
      "283/283 [==============================] - 0s 98us/sample - loss: 17.2513 - val_loss: 22.5794\n",
      "Epoch 116/170\n",
      "283/283 [==============================] - 0s 111us/sample - loss: 17.3813 - val_loss: 22.7088\n",
      "Epoch 117/170\n",
      "283/283 [==============================] - 0s 89us/sample - loss: 17.1900 - val_loss: 22.8834\n",
      "Epoch 118/170\n",
      "283/283 [==============================] - 0s 87us/sample - loss: 17.0482 - val_loss: 22.5822\n",
      "Epoch 119/170\n",
      "283/283 [==============================] - 0s 92us/sample - loss: 17.0691 - val_loss: 22.7598\n",
      "Epoch 120/170\n",
      "283/283 [==============================] - 0s 84us/sample - loss: 17.2038 - val_loss: 22.4885\n",
      "Epoch 121/170\n",
      "283/283 [==============================] - 0s 81us/sample - loss: 17.0559 - val_loss: 22.4219\n",
      "Epoch 122/170\n",
      "283/283 [==============================] - 0s 74us/sample - loss: 17.0987 - val_loss: 22.7826\n",
      "Epoch 123/170\n",
      "283/283 [==============================] - 0s 86us/sample - loss: 16.9345 - val_loss: 22.6060\n",
      "Epoch 124/170\n",
      "283/283 [==============================] - 0s 97us/sample - loss: 17.0200 - val_loss: 22.7838\n",
      "Epoch 125/170\n",
      "283/283 [==============================] - 0s 103us/sample - loss: 16.9879 - val_loss: 22.8083\n",
      "Epoch 126/170\n",
      "283/283 [==============================] - 0s 73us/sample - loss: 16.8886 - val_loss: 22.5834\n",
      "Epoch 127/170\n",
      "283/283 [==============================] - 0s 80us/sample - loss: 17.3458 - val_loss: 22.7147\n",
      "Epoch 128/170\n",
      "283/283 [==============================] - 0s 94us/sample - loss: 17.3028 - val_loss: 22.5554\n",
      "Epoch 129/170\n",
      "283/283 [==============================] - 0s 99us/sample - loss: 16.6957 - val_loss: 23.2980\n",
      "Epoch 130/170\n",
      "283/283 [==============================] - 0s 104us/sample - loss: 16.9743 - val_loss: 22.5749\n",
      "Epoch 131/170\n",
      "283/283 [==============================] - 0s 105us/sample - loss: 17.1515 - val_loss: 22.4353\n",
      "Epoch 132/170\n",
      "283/283 [==============================] - 0s 96us/sample - loss: 16.6898 - val_loss: 22.6872\n",
      "Epoch 133/170\n",
      "283/283 [==============================] - 0s 81us/sample - loss: 16.8996 - val_loss: 22.4518\n",
      "Epoch 134/170\n",
      "283/283 [==============================] - 0s 95us/sample - loss: 16.9698 - val_loss: 22.6339\n",
      "Epoch 135/170\n",
      "283/283 [==============================] - ETA: 0s - loss: 22.19 - 0s 91us/sample - loss: 17.2806 - val_loss: 22.6378\n",
      "Epoch 136/170\n",
      "283/283 [==============================] - 0s 133us/sample - loss: 17.3248 - val_loss: 22.7003\n",
      "Epoch 137/170\n",
      "283/283 [==============================] - 0s 173us/sample - loss: 16.5920 - val_loss: 22.5269\n",
      "Epoch 138/170\n",
      "283/283 [==============================] - 0s 144us/sample - loss: 16.8538 - val_loss: 22.4920\n",
      "Epoch 139/170\n",
      "283/283 [==============================] - 0s 92us/sample - loss: 16.7057 - val_loss: 22.6534\n",
      "Epoch 140/170\n",
      "283/283 [==============================] - 0s 103us/sample - loss: 16.5842 - val_loss: 22.4018\n",
      "Epoch 141/170\n",
      "283/283 [==============================] - 0s 91us/sample - loss: 17.0622 - val_loss: 22.5592\n",
      "Epoch 142/170\n",
      "283/283 [==============================] - 0s 87us/sample - loss: 17.2289 - val_loss: 22.8233\n",
      "Epoch 143/170\n",
      "283/283 [==============================] - 0s 76us/sample - loss: 16.4203 - val_loss: 22.5153\n",
      "Epoch 144/170\n",
      "283/283 [==============================] - 0s 89us/sample - loss: 17.4346 - val_loss: 22.4498\n",
      "Epoch 145/170\n",
      "283/283 [==============================] - 0s 89us/sample - loss: 17.7790 - val_loss: 22.9688\n",
      "Epoch 146/170\n",
      "283/283 [==============================] - 0s 86us/sample - loss: 17.5387 - val_loss: 22.9282\n",
      "Epoch 147/170\n",
      "283/283 [==============================] - 0s 60us/sample - loss: 17.7827 - val_loss: 23.9975\n",
      "Epoch 148/170\n",
      "283/283 [==============================] - 0s 86us/sample - loss: 17.2708 - val_loss: 22.7723\n",
      "Epoch 149/170\n",
      "283/283 [==============================] - 0s 79us/sample - loss: 16.7258 - val_loss: 23.4101\n",
      "Epoch 150/170\n",
      "283/283 [==============================] - 0s 79us/sample - loss: 16.7997 - val_loss: 22.4178\n",
      "Epoch 151/170\n",
      "283/283 [==============================] - 0s 71us/sample - loss: 16.8410 - val_loss: 22.6523\n",
      "Epoch 152/170\n"
     ]
    },
    {
     "name": "stdout",
     "output_type": "stream",
     "text": [
      "283/283 [==============================] - 0s 76us/sample - loss: 16.8022 - val_loss: 22.7184\n",
      "Epoch 153/170\n",
      "283/283 [==============================] - 0s 81us/sample - loss: 17.0219 - val_loss: 22.4053\n",
      "Epoch 154/170\n",
      "283/283 [==============================] - 0s 74us/sample - loss: 16.7451 - val_loss: 23.3117\n",
      "Epoch 155/170\n",
      "283/283 [==============================] - 0s 72us/sample - loss: 16.6935 - val_loss: 22.5933\n",
      "Epoch 156/170\n",
      "283/283 [==============================] - 0s 63us/sample - loss: 16.9822 - val_loss: 22.6244\n",
      "Epoch 157/170\n",
      "283/283 [==============================] - 0s 68us/sample - loss: 16.8059 - val_loss: 22.3901\n",
      "Epoch 158/170\n",
      "283/283 [==============================] - 0s 64us/sample - loss: 16.4235 - val_loss: 22.7506\n",
      "Epoch 159/170\n",
      "283/283 [==============================] - 0s 63us/sample - loss: 16.4099 - val_loss: 22.4404\n",
      "Epoch 160/170\n",
      "283/283 [==============================] - 0s 64us/sample - loss: 16.5329 - val_loss: 22.4143\n",
      "Epoch 161/170\n",
      "283/283 [==============================] - 0s 60us/sample - loss: 16.4145 - val_loss: 22.4055\n",
      "Epoch 162/170\n",
      "283/283 [==============================] - 0s 67us/sample - loss: 16.4926 - val_loss: 22.4970\n",
      "Epoch 163/170\n",
      "283/283 [==============================] - 0s 62us/sample - loss: 16.5039 - val_loss: 22.3865\n",
      "Epoch 164/170\n",
      "283/283 [==============================] - 0s 67us/sample - loss: 16.5876 - val_loss: 22.5608\n",
      "Epoch 165/170\n",
      "283/283 [==============================] - 0s 81us/sample - loss: 16.7012 - val_loss: 22.4855\n",
      "Epoch 166/170\n",
      "283/283 [==============================] - 0s 69us/sample - loss: 16.7403 - val_loss: 22.7560\n",
      "Epoch 167/170\n",
      "283/283 [==============================] - ETA: 0s - loss: 13.40 - 0s 70us/sample - loss: 16.3741 - val_loss: 22.4089\n",
      "Epoch 168/170\n",
      "283/283 [==============================] - 0s 63us/sample - loss: 16.5003 - val_loss: 22.4816\n",
      "Epoch 169/170\n",
      "283/283 [==============================] - 0s 84us/sample - loss: 16.5889 - val_loss: 22.3842\n",
      "Epoch 170/170\n",
      "283/283 [==============================] - 0s 96us/sample - loss: 16.3491 - val_loss: 22.7343\n"
     ]
    }
   ],
   "source": [
    "epoch_hist = model.fit(X_train,y_train,epochs=170,batch_size=50,verbose=1,validation_split=0.2)"
   ]
  },
  {
   "cell_type": "markdown",
   "metadata": {},
   "source": [
    "Split Validation is a way to predict the fit of a model to a hypothetical testing set when an \n",
    "explicit testing set is not available. The Split Validation operator also allows training on one data set and \n",
    "testing on another explicit testing data set."
   ]
  },
  {
   "cell_type": "markdown",
   "metadata": {},
   "source": [
    "# Evaluating the model"
   ]
  },
  {
   "cell_type": "code",
   "execution_count": 30,
   "metadata": {},
   "outputs": [
    {
     "data": {
      "text/plain": [
       "dict_keys(['loss', 'val_loss'])"
      ]
     },
     "execution_count": 30,
     "metadata": {},
     "output_type": "execute_result"
    }
   ],
   "source": [
    "epoch_hist.history.keys()"
   ]
  },
  {
   "cell_type": "markdown",
   "metadata": {},
   "source": [
    "Training loss is the error on the training set of data. Validation loss is the error after running the validation set of data through the trained network. Train/valid is the ratio between the two.\n",
    "Unexpectedly, as the epochs increase both validation and training error drop"
   ]
  },
  {
   "cell_type": "code",
   "execution_count": 31,
   "metadata": {},
   "outputs": [
    {
     "data": {
      "text/plain": [
       "<matplotlib.legend.Legend at 0x1e518b90b48>"
      ]
     },
     "execution_count": 31,
     "metadata": {},
     "output_type": "execute_result"
    },
    {
     "data": {
      "image/png": "[encoded data removed]",
      "text/plain": [
       "<Figure size 432x288 with 1 Axes>"
      ]
     },
     "metadata": {
      "needs_background": "light"
     },
     "output_type": "display_data"
    }
   ],
   "source": [
    "plt.plot(epoch_hist.history['loss'])\n",
    "plt.plot(epoch_hist.history['val_loss'])\n",
    "plt.title('Model Loss Progress during Training')\n",
    "plt.ylabel('Training and validation loss')\n",
    "plt.xlabel('Number of epochs')\n",
    "plt.legend(['Training Loss','Validation Loss'])"
   ]
  },
  {
   "cell_type": "markdown",
   "metadata": {},
   "source": [
    "# LOOKS GREAT!"
   ]
  },
  {
   "cell_type": "markdown",
   "metadata": {},
   "source": [
    "The model isnt overfitting too much."
   ]
  },
  {
   "cell_type": "code",
   "execution_count": 32,
   "metadata": {},
   "outputs": [],
   "source": [
    "#lets try to predict the house price for a new customer!"
   ]
  },
  {
   "cell_type": "code",
   "execution_count": 33,
   "metadata": {},
   "outputs": [
    {
     "data": {
      "text/html": [
       "<div>\n",
       "<style scoped>\n",
       "    .dataframe tbody tr th:only-of-type {\n",
       "        vertical-align: middle;\n",
       "    }\n",
       "\n",
       "    .dataframe tbody tr th {\n",
       "        vertical-align: top;\n",
       "    }\n",
       "\n",
       "    .dataframe thead th {\n",
       "        text-align: right;\n",
       "    }\n",
       "</style>\n",
       "<table border=\"1\" class=\"dataframe\">\n",
       "  <thead>\n",
       "    <tr style=\"text-align: right;\">\n",
       "      <th></th>\n",
       "      <th>RM</th>\n",
       "      <th>PTRATIO</th>\n",
       "      <th>LSTAT</th>\n",
       "      <th>MEDV</th>\n",
       "    </tr>\n",
       "  </thead>\n",
       "  <tbody>\n",
       "    <tr>\n",
       "      <th>0</th>\n",
       "      <td>6.575</td>\n",
       "      <td>15.3</td>\n",
       "      <td>4.98</td>\n",
       "      <td>24.0</td>\n",
       "    </tr>\n",
       "    <tr>\n",
       "      <th>1</th>\n",
       "      <td>6.421</td>\n",
       "      <td>17.8</td>\n",
       "      <td>9.14</td>\n",
       "      <td>21.6</td>\n",
       "    </tr>\n",
       "    <tr>\n",
       "      <th>2</th>\n",
       "      <td>7.185</td>\n",
       "      <td>17.8</td>\n",
       "      <td>4.03</td>\n",
       "      <td>34.7</td>\n",
       "    </tr>\n",
       "    <tr>\n",
       "      <th>3</th>\n",
       "      <td>6.998</td>\n",
       "      <td>18.7</td>\n",
       "      <td>2.94</td>\n",
       "      <td>33.4</td>\n",
       "    </tr>\n",
       "    <tr>\n",
       "      <th>4</th>\n",
       "      <td>7.147</td>\n",
       "      <td>18.7</td>\n",
       "      <td>5.33</td>\n",
       "      <td>36.2</td>\n",
       "    </tr>\n",
       "    <tr>\n",
       "      <th>...</th>\n",
       "      <td>...</td>\n",
       "      <td>...</td>\n",
       "      <td>...</td>\n",
       "      <td>...</td>\n",
       "    </tr>\n",
       "    <tr>\n",
       "      <th>501</th>\n",
       "      <td>6.593</td>\n",
       "      <td>21.0</td>\n",
       "      <td>9.67</td>\n",
       "      <td>22.4</td>\n",
       "    </tr>\n",
       "    <tr>\n",
       "      <th>502</th>\n",
       "      <td>6.120</td>\n",
       "      <td>21.0</td>\n",
       "      <td>9.08</td>\n",
       "      <td>20.6</td>\n",
       "    </tr>\n",
       "    <tr>\n",
       "      <th>503</th>\n",
       "      <td>6.976</td>\n",
       "      <td>21.0</td>\n",
       "      <td>5.64</td>\n",
       "      <td>23.9</td>\n",
       "    </tr>\n",
       "    <tr>\n",
       "      <th>504</th>\n",
       "      <td>6.794</td>\n",
       "      <td>21.0</td>\n",
       "      <td>6.48</td>\n",
       "      <td>22.0</td>\n",
       "    </tr>\n",
       "    <tr>\n",
       "      <th>505</th>\n",
       "      <td>6.030</td>\n",
       "      <td>21.0</td>\n",
       "      <td>7.88</td>\n",
       "      <td>11.9</td>\n",
       "    </tr>\n",
       "  </tbody>\n",
       "</table>\n",
       "<p>506 rows × 4 columns</p>\n",
       "</div>"
      ],
      "text/plain": [
       "        RM  PTRATIO  LSTAT  MEDV\n",
       "0    6.575     15.3   4.98  24.0\n",
       "1    6.421     17.8   9.14  21.6\n",
       "2    7.185     17.8   4.03  34.7\n",
       "3    6.998     18.7   2.94  33.4\n",
       "4    7.147     18.7   5.33  36.2\n",
       "..     ...      ...    ...   ...\n",
       "501  6.593     21.0   9.67  22.4\n",
       "502  6.120     21.0   9.08  20.6\n",
       "503  6.976     21.0   5.64  23.9\n",
       "504  6.794     21.0   6.48  22.0\n",
       "505  6.030     21.0   7.88  11.9\n",
       "\n",
       "[506 rows x 4 columns]"
      ]
     },
     "execution_count": 33,
     "metadata": {},
     "output_type": "execute_result"
    }
   ],
   "source": [
    "boston"
   ]
  },
  {
   "cell_type": "code",
   "execution_count": 34,
   "metadata": {},
   "outputs": [],
   "source": [
    "X_new = np.array([[6,16,7]])"
   ]
  },
  {
   "cell_type": "code",
   "execution_count": 35,
   "metadata": {},
   "outputs": [],
   "source": [
    "prediction = model.predict(X_new)"
   ]
  },
  {
   "cell_type": "code",
   "execution_count": 36,
   "metadata": {},
   "outputs": [
    {
     "name": "stdout",
     "output_type": "stream",
     "text": [
      "Predicted Value is: [[23.397923]]\n"
     ]
    }
   ],
   "source": [
    "\n",
    "print(\"Predicted Value is:\",prediction)"
   ]
  },
  {
   "cell_type": "code",
   "execution_count": 37,
   "metadata": {},
   "outputs": [],
   "source": [
    "y_predict = model.predict(X_test)"
   ]
  },
  {
   "cell_type": "code",
   "execution_count": 38,
   "metadata": {},
   "outputs": [],
   "source": [
    "from sklearn import metrics"
   ]
  },
  {
   "cell_type": "code",
   "execution_count": 39,
   "metadata": {},
   "outputs": [],
   "source": [
    "met = metrics"
   ]
  },
  {
   "cell_type": "code",
   "execution_count": 40,
   "metadata": {},
   "outputs": [
    {
     "name": "stdout",
     "output_type": "stream",
     "text": [
      "Mean absolute error = 3.37\n",
      "Mean squared error = 23.76\n",
      "Median absolute error = 2.4\n",
      "Explain variance score = 0.76\n",
      "R2 score = 0.76\n"
     ]
    }
   ],
   "source": [
    "print(\"Mean absolute error =\", round(met.mean_absolute_error(y_test, y_predict), 2)) \n",
    "print(\"Mean squared error =\", round(met.mean_squared_error(y_test, y_predict), 2)) \n",
    "print(\"Median absolute error =\", round(met.median_absolute_error(y_test, y_predict), 2)) \n",
    "print(\"Explain variance score =\", round(met.explained_variance_score(y_test, y_predict), 2)) \n",
    "print(\"R2 score =\", round(met.r2_score(y_test, y_predict), 2))"
   ]
  },
  {
   "cell_type": "markdown",
   "metadata": {},
   "source": [
    "# Linear Regression"
   ]
  },
  {
   "cell_type": "code",
   "execution_count": 41,
   "metadata": {},
   "outputs": [],
   "source": [
    "from sklearn.linear_model import LinearRegression"
   ]
  },
  {
   "cell_type": "code",
   "execution_count": 42,
   "metadata": {},
   "outputs": [],
   "source": [
    "lr = LinearRegression()"
   ]
  },
  {
   "cell_type": "code",
   "execution_count": 43,
   "metadata": {},
   "outputs": [
    {
     "data": {
      "text/plain": [
       "LinearRegression(copy_X=True, fit_intercept=True, n_jobs=None, normalize=False)"
      ]
     },
     "execution_count": 43,
     "metadata": {},
     "output_type": "execute_result"
    }
   ],
   "source": [
    "lr.fit(X_train,y_train)"
   ]
  },
  {
   "cell_type": "code",
   "execution_count": 44,
   "metadata": {},
   "outputs": [
    {
     "data": {
      "text/plain": [
       "array([ 4.05477788, -0.95404667, -0.58906775])"
      ]
     },
     "execution_count": 44,
     "metadata": {},
     "output_type": "execute_result"
    }
   ],
   "source": [
    "lr.coef_"
   ]
  },
  {
   "cell_type": "code",
   "execution_count": 45,
   "metadata": {},
   "outputs": [
    {
     "data": {
      "text/plain": [
       "Index(['RM', 'PTRATIO', 'LSTAT'], dtype='object')"
      ]
     },
     "execution_count": 45,
     "metadata": {},
     "output_type": "execute_result"
    }
   ],
   "source": [
    "X_train.columns"
   ]
  },
  {
   "cell_type": "markdown",
   "metadata": {},
   "source": [
    "This means for a unit increase in the features of training data gives a unit increase in the target variable equal to the coefficient"
   ]
  },
  {
   "cell_type": "markdown",
   "metadata": {},
   "source": [
    "y = m1x1 + m2x2 = m3x3 + c ; here m1,m2,m3 are the coefficients, x1,x2,x3 are the features and y is the targte variable"
   ]
  },
  {
   "cell_type": "code",
   "execution_count": 46,
   "metadata": {},
   "outputs": [],
   "source": [
    "prediction = lr.predict(X_test)"
   ]
  },
  {
   "cell_type": "code",
   "execution_count": 47,
   "metadata": {},
   "outputs": [
    {
     "name": "stdout",
     "output_type": "stream",
     "text": [
      "Mean absolute error = 4.1\n",
      "Mean squared error = 33.42\n",
      "Median absolute error = 2.88\n",
      "Explain variance score = 0.67\n",
      "R2 score = 0.66\n"
     ]
    }
   ],
   "source": [
    "print(\"Mean absolute error =\", round(met.mean_absolute_error(y_test, prediction), 2)) \n",
    "print(\"Mean squared error =\", round(met.mean_squared_error(y_test, prediction), 2)) \n",
    "print(\"Median absolute error =\", round(met.median_absolute_error(y_test, prediction), 2))\n",
    "print(\"Explain variance score =\", round(met.explained_variance_score(y_test, prediction), 2)) \n",
    "print(\"R2 score =\", round(met.r2_score(y_test, prediction), 2)) "
   ]
  },
  {
   "cell_type": "markdown",
   "metadata": {},
   "source": [
    "Clearly the ANN has better performance than Linear Regression!"
   ]
  },
  {
   "cell_type": "markdown",
   "metadata": {},
   "source": [
    "# Decision Trees and Random Forest"
   ]
  },
  {
   "cell_type": "code",
   "execution_count": 48,
   "metadata": {},
   "outputs": [],
   "source": [
    "from sklearn.tree import DecisionTreeRegressor\n",
    "from sklearn.ensemble import RandomForestRegressor"
   ]
  },
  {
   "cell_type": "code",
   "execution_count": 49,
   "metadata": {},
   "outputs": [],
   "source": [
    "dcr = DecisionTreeRegressor()\n",
    "rfr = RandomForestRegressor()"
   ]
  },
  {
   "cell_type": "code",
   "execution_count": 50,
   "metadata": {},
   "outputs": [
    {
     "data": {
      "text/plain": [
       "RandomForestRegressor(bootstrap=True, ccp_alpha=0.0, criterion='mse',\n",
       "                      max_depth=None, max_features='auto', max_leaf_nodes=None,\n",
       "                      max_samples=None, min_impurity_decrease=0.0,\n",
       "                      min_impurity_split=None, min_samples_leaf=1,\n",
       "                      min_samples_split=2, min_weight_fraction_leaf=0.0,\n",
       "                      n_estimators=100, n_jobs=None, oob_score=False,\n",
       "                      random_state=None, verbose=0, warm_start=False)"
      ]
     },
     "execution_count": 50,
     "metadata": {},
     "output_type": "execute_result"
    }
   ],
   "source": [
    "dcr.fit(X_train,y_train)\n",
    "rfr.fit(X_train,y_train)"
   ]
  },
  {
   "cell_type": "code",
   "execution_count": 56,
   "metadata": {},
   "outputs": [],
   "source": [
    "predict1 = dcr.predict(X_test)\n",
    "predict2 = rfr.predict(X_test)\n"
   ]
  },
  {
   "cell_type": "markdown",
   "metadata": {},
   "source": [
    "# Decision Tree Performance"
   ]
  },
  {
   "cell_type": "code",
   "execution_count": 57,
   "metadata": {},
   "outputs": [
    {
     "name": "stdout",
     "output_type": "stream",
     "text": [
      "Mean absolute error = 3.69\n",
      "Mean squared error = 30.57\n",
      "Median absolute error = 2.4\n",
      "Explain variance score = 0.69\n",
      "R2 score = 0.69\n"
     ]
    }
   ],
   "source": [
    "print(\"Mean absolute error =\", round(met.mean_absolute_error(y_test, predict1), 2)) \n",
    "print(\"Mean squared error =\", round(met.mean_squared_error(y_test, predict1), 2)) \n",
    "print(\"Median absolute error =\", round(met.median_absolute_error(y_test, predict1), 2))\n",
    "print(\"Explain variance score =\", round(met.explained_variance_score(y_test, predict1), 2)) \n",
    "print(\"R2 score =\", round(met.r2_score(y_test, predict1), 2)) "
   ]
  },
  {
   "cell_type": "markdown",
   "metadata": {},
   "source": [
    "# Random Forest Performance"
   ]
  },
  {
   "cell_type": "code",
   "execution_count": 58,
   "metadata": {},
   "outputs": [
    {
     "name": "stdout",
     "output_type": "stream",
     "text": [
      "Mean absolute error = 3.29\n",
      "Mean squared error = 23.28\n",
      "Median absolute error = 2.46\n",
      "Explain variance score = 0.77\n",
      "R2 score = 0.77\n"
     ]
    }
   ],
   "source": [
    "print(\"Mean absolute error =\", round(met.mean_absolute_error(y_test, predict2), 2)) \n",
    "print(\"Mean squared error =\", round(met.mean_squared_error(y_test, predict2), 2)) \n",
    "print(\"Median absolute error =\", round(met.median_absolute_error(y_test, predict2), 2))\n",
    "print(\"Explain variance score =\", round(met.explained_variance_score(y_test, predict2), 2)) \n",
    "print(\"R2 score =\", round(met.r2_score(y_test, predict2), 2)) "
   ]
  },
  {
   "cell_type": "markdown",
   "metadata": {},
   "source": [
    "# Conclusion : Of all the models, Random Forest has the best performance...!"
   ]
  },
  {
   "cell_type": "code",
   "execution_count": null,
   "metadata": {},
   "outputs": [],
   "source": []
  }
 ],
 "metadata": {
  "kernelspec": {
   "display_name": "Python 3",
   "language": "python",
   "name": "python3"
  },
  "language_info": {
   "codemirror_mode": {
    "name": "ipython",
    "version": 3
   },
   "file_extension": ".py",
   "mimetype": "text/x-python",
   "name": "python",
   "nbconvert_exporter": "python",
   "pygments_lexer": "ipython3",
   "version": "3.7.6"
  }
 },
 "nbformat": 4,
 "nbformat_minor": 4
}
